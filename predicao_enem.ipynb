{
  "nbformat": 4,
  "nbformat_minor": 0,
  "metadata": {
    "kernelspec": {
      "display_name": "Python 3",
      "language": "python",
      "name": "python3"
    },
    "language_info": {
      "codemirror_mode": {
        "name": "ipython",
        "version": 3
      },
      "file_extension": ".py",
      "mimetype": "text/x-python",
      "name": "python",
      "nbconvert_exporter": "python",
      "pygments_lexer": "ipython3",
      "version": "3.8.2"
    },
    "colab": {
      "name": "predicao_enem.ipynb",
      "provenance": [],
      "toc_visible": true
    }
  },
  "cells": [
    {
      "cell_type": "markdown",
      "metadata": {
        "id": "bfCI-yVVyZ1H",
        "colab_type": "text"
      },
      "source": [
        "# Predição de Nota do Enem\n",
        "\n",
        "## Introdução\n",
        "\n",
        "O desafio é fazer uma predição da nota da prova de Linguagens e Códigos do Enem baseando-se nas notas das outras quatro provas (Matemática, Redação, Ciências Humanas e Ciências Naturais)."
      ]
    },
    {
      "cell_type": "markdown",
      "metadata": {
        "id": "tZR5dLFtyZ14",
        "colab_type": "text"
      },
      "source": [
        "## Carregando os dados\n"
      ]
    },
    {
      "cell_type": "code",
      "metadata": {
        "id": "_SAc8zqUyZ2C",
        "colab_type": "code",
        "colab": {}
      },
      "source": [
        "import matplotlib.pyplot as plt\n",
        "import seaborn as sns\n",
        "import pandas as pd\n",
        "import numpy as np"
      ],
      "execution_count": 101,
      "outputs": []
    },
    {
      "cell_type": "code",
      "metadata": {
        "id": "6pVohcZlyZ3s",
        "colab_type": "code",
        "colab": {}
      },
      "source": [
        "dados_treino = pd.read_csv('DADOS_TREINO.csv')\n",
        "dados_teste = pd.read_csv(\"DADOS_TESTE.csv\")"
      ],
      "execution_count": 102,
      "outputs": []
    },
    {
      "cell_type": "code",
      "metadata": {
        "id": "pXYlnDn5yZ4t",
        "colab_type": "code",
        "colab": {
          "base_uri": "https://localhost:8080/",
          "height": 204
        },
        "outputId": "ae294667-9471-4d7b-f0dc-39cdc79b1d00"
      },
      "source": [
        "dados_treino.head()"
      ],
      "execution_count": 103,
      "outputs": [
        {
          "output_type": "execute_result",
          "data": {
            "text/html": [
              "<div>\n",
              "<style scoped>\n",
              "    .dataframe tbody tr th:only-of-type {\n",
              "        vertical-align: middle;\n",
              "    }\n",
              "\n",
              "    .dataframe tbody tr th {\n",
              "        vertical-align: top;\n",
              "    }\n",
              "\n",
              "    .dataframe thead th {\n",
              "        text-align: right;\n",
              "    }\n",
              "</style>\n",
              "<table border=\"1\" class=\"dataframe\">\n",
              "  <thead>\n",
              "    <tr style=\"text-align: right;\">\n",
              "      <th></th>\n",
              "      <th>NU_NOTA_CN</th>\n",
              "      <th>NU_NOTA_CH</th>\n",
              "      <th>NU_NOTA_LC</th>\n",
              "      <th>NU_NOTA_MT</th>\n",
              "      <th>NU_NOTA_REDACAO</th>\n",
              "    </tr>\n",
              "  </thead>\n",
              "  <tbody>\n",
              "    <tr>\n",
              "      <th>0</th>\n",
              "      <td>530.7</td>\n",
              "      <td>586.5</td>\n",
              "      <td>575.9</td>\n",
              "      <td>539.0</td>\n",
              "      <td>520.0</td>\n",
              "    </tr>\n",
              "    <tr>\n",
              "      <th>1</th>\n",
              "      <td>439.4</td>\n",
              "      <td>577.9</td>\n",
              "      <td>440.9</td>\n",
              "      <td>488.7</td>\n",
              "      <td>380.0</td>\n",
              "    </tr>\n",
              "    <tr>\n",
              "      <th>2</th>\n",
              "      <td>414.1</td>\n",
              "      <td>548.8</td>\n",
              "      <td>417.2</td>\n",
              "      <td>382.6</td>\n",
              "      <td>600.0</td>\n",
              "    </tr>\n",
              "    <tr>\n",
              "      <th>3</th>\n",
              "      <td>407.9</td>\n",
              "      <td>572.7</td>\n",
              "      <td>558.9</td>\n",
              "      <td>595.4</td>\n",
              "      <td>560.0</td>\n",
              "    </tr>\n",
              "    <tr>\n",
              "      <th>4</th>\n",
              "      <td>617.2</td>\n",
              "      <td>655.7</td>\n",
              "      <td>564.2</td>\n",
              "      <td>660.9</td>\n",
              "      <td>540.0</td>\n",
              "    </tr>\n",
              "  </tbody>\n",
              "</table>\n",
              "</div>"
            ],
            "text/plain": [
              "   NU_NOTA_CN  NU_NOTA_CH  NU_NOTA_LC  NU_NOTA_MT  NU_NOTA_REDACAO\n",
              "0       530.7       586.5       575.9       539.0            520.0\n",
              "1       439.4       577.9       440.9       488.7            380.0\n",
              "2       414.1       548.8       417.2       382.6            600.0\n",
              "3       407.9       572.7       558.9       595.4            560.0\n",
              "4       617.2       655.7       564.2       660.9            540.0"
            ]
          },
          "metadata": {
            "tags": []
          },
          "execution_count": 103
        }
      ]
    },
    {
      "cell_type": "code",
      "metadata": {
        "id": "CFElRRB8yZ5U",
        "colab_type": "code",
        "colab": {
          "base_uri": "https://localhost:8080/",
          "height": 204
        },
        "outputId": "8eae7c7c-9c73-4d71-e2ba-7b134501b946"
      },
      "source": [
        "dados_teste.head()"
      ],
      "execution_count": 104,
      "outputs": [
        {
          "output_type": "execute_result",
          "data": {
            "text/html": [
              "<div>\n",
              "<style scoped>\n",
              "    .dataframe tbody tr th:only-of-type {\n",
              "        vertical-align: middle;\n",
              "    }\n",
              "\n",
              "    .dataframe tbody tr th {\n",
              "        vertical-align: top;\n",
              "    }\n",
              "\n",
              "    .dataframe thead th {\n",
              "        text-align: right;\n",
              "    }\n",
              "</style>\n",
              "<table border=\"1\" class=\"dataframe\">\n",
              "  <thead>\n",
              "    <tr style=\"text-align: right;\">\n",
              "      <th></th>\n",
              "      <th>NU_NOTA_CN</th>\n",
              "      <th>NU_NOTA_CH</th>\n",
              "      <th>NU_NOTA_LC</th>\n",
              "      <th>NU_NOTA_MT</th>\n",
              "      <th>NU_NOTA_REDACAO</th>\n",
              "    </tr>\n",
              "  </thead>\n",
              "  <tbody>\n",
              "    <tr>\n",
              "      <th>0</th>\n",
              "      <td>468.6</td>\n",
              "      <td>579.2</td>\n",
              "      <td>550.0</td>\n",
              "      <td>605.0</td>\n",
              "      <td>540.0</td>\n",
              "    </tr>\n",
              "    <tr>\n",
              "      <th>1</th>\n",
              "      <td>463.5</td>\n",
              "      <td>442.6</td>\n",
              "      <td>406.3</td>\n",
              "      <td>413.8</td>\n",
              "      <td>440.0</td>\n",
              "    </tr>\n",
              "    <tr>\n",
              "      <th>2</th>\n",
              "      <td>593.3</td>\n",
              "      <td>717.3</td>\n",
              "      <td>652.3</td>\n",
              "      <td>693.6</td>\n",
              "      <td>980.0</td>\n",
              "    </tr>\n",
              "    <tr>\n",
              "      <th>3</th>\n",
              "      <td>426.0</td>\n",
              "      <td>603.6</td>\n",
              "      <td>469.1</td>\n",
              "      <td>455.2</td>\n",
              "      <td>380.0</td>\n",
              "    </tr>\n",
              "    <tr>\n",
              "      <th>4</th>\n",
              "      <td>537.8</td>\n",
              "      <td>601.6</td>\n",
              "      <td>580.5</td>\n",
              "      <td>502.0</td>\n",
              "      <td>620.0</td>\n",
              "    </tr>\n",
              "  </tbody>\n",
              "</table>\n",
              "</div>"
            ],
            "text/plain": [
              "   NU_NOTA_CN  NU_NOTA_CH  NU_NOTA_LC  NU_NOTA_MT  NU_NOTA_REDACAO\n",
              "0       468.6       579.2       550.0       605.0            540.0\n",
              "1       463.5       442.6       406.3       413.8            440.0\n",
              "2       593.3       717.3       652.3       693.6            980.0\n",
              "3       426.0       603.6       469.1       455.2            380.0\n",
              "4       537.8       601.6       580.5       502.0            620.0"
            ]
          },
          "metadata": {
            "tags": []
          },
          "execution_count": 104
        }
      ]
    },
    {
      "cell_type": "markdown",
      "metadata": {
        "id": "khiPpVM6yZ5x",
        "colab_type": "text"
      },
      "source": [
        "Como vemos, a base de dados contem 5 colunas:\n",
        "\n",
        "- NU_NOTA_CN: Nota da prova de Ciências da Natureza  \n",
        "- NU_NOTA_CH: Nota da prova de Ciência Humanas\n",
        "- NU_NOTA_LC: Nota da prova de Linguagens e Códigos\n",
        "- NU_NOTA_MT: Nota da prova de Matemática\n",
        "- NU_NOTA_REDACAO: Nota da Redação"
      ]
    },
    {
      "cell_type": "code",
      "metadata": {
        "id": "yJ-OZEX4yZ53",
        "colab_type": "code",
        "colab": {
          "base_uri": "https://localhost:8080/",
          "height": 34
        },
        "outputId": "6d870a8e-2a99-49b8-9df5-96844af05443"
      },
      "source": [
        "dados_treino.shape"
      ],
      "execution_count": 105,
      "outputs": [
        {
          "output_type": "execute_result",
          "data": {
            "text/plain": [
              "(150000, 5)"
            ]
          },
          "metadata": {
            "tags": []
          },
          "execution_count": 105
        }
      ]
    },
    {
      "cell_type": "code",
      "metadata": {
        "id": "iWv5pcCtyZ6Y",
        "colab_type": "code",
        "colab": {
          "base_uri": "https://localhost:8080/",
          "height": 34
        },
        "outputId": "075a417b-27bc-430b-eee5-5ae05272667b"
      },
      "source": [
        "dados_teste.shape"
      ],
      "execution_count": 106,
      "outputs": [
        {
          "output_type": "execute_result",
          "data": {
            "text/plain": [
              "(20000, 5)"
            ]
          },
          "metadata": {
            "tags": []
          },
          "execution_count": 106
        }
      ]
    },
    {
      "cell_type": "markdown",
      "metadata": {
        "id": "jkFvTNkRyZ60",
        "colab_type": "text"
      },
      "source": [
        "Vamos verificar se há casos de NaN na nossa base de dados:"
      ]
    },
    {
      "cell_type": "code",
      "metadata": {
        "id": "LRV3XtDxyZ7M",
        "colab_type": "code",
        "colab": {
          "base_uri": "https://localhost:8080/",
          "height": 34
        },
        "outputId": "e21cc220-e042-4daf-dc03-0fc535158f9a"
      },
      "source": [
        "dados_treino.dropna().shape"
      ],
      "execution_count": 107,
      "outputs": [
        {
          "output_type": "execute_result",
          "data": {
            "text/plain": [
              "(150000, 5)"
            ]
          },
          "metadata": {
            "tags": []
          },
          "execution_count": 107
        }
      ]
    },
    {
      "cell_type": "code",
      "metadata": {
        "id": "3DLFgyHayZ7m",
        "colab_type": "code",
        "colab": {
          "base_uri": "https://localhost:8080/",
          "height": 34
        },
        "outputId": "0fa33a0f-e740-4651-aa7c-e7c19168d262"
      },
      "source": [
        "dados_teste.dropna().shape"
      ],
      "execution_count": 108,
      "outputs": [
        {
          "output_type": "execute_result",
          "data": {
            "text/plain": [
              "(20000, 5)"
            ]
          },
          "metadata": {
            "tags": []
          },
          "execution_count": 108
        }
      ]
    },
    {
      "cell_type": "markdown",
      "metadata": {
        "id": "waIhnaLzyZ8F",
        "colab_type": "text"
      },
      "source": [
        "Como o numero de linhas permaneceu o mesmo, não há casos de NaN. Pessoas que faltaram alguma das provas receberam nota zero nessa prova."
      ]
    },
    {
      "cell_type": "code",
      "metadata": {
        "id": "y5Tg5B6iyZ8J",
        "colab_type": "code",
        "colab": {
          "base_uri": "https://localhost:8080/",
          "height": 34
        },
        "outputId": "b5db7396-0af9-43be-a744-4b2b56497703"
      },
      "source": [
        "dados_treino.replace(0, np.nan).dropna().shape"
      ],
      "execution_count": 109,
      "outputs": [
        {
          "output_type": "execute_result",
          "data": {
            "text/plain": [
              "(146790, 5)"
            ]
          },
          "metadata": {
            "tags": []
          },
          "execution_count": 109
        }
      ]
    },
    {
      "cell_type": "code",
      "metadata": {
        "id": "dTA8eexMyZ8g",
        "colab_type": "code",
        "colab": {
          "base_uri": "https://localhost:8080/",
          "height": 34
        },
        "outputId": "51a78607-87f4-46e2-d09a-b5e8ad72e51f"
      },
      "source": [
        "dados_teste.replace(0, np.nan).dropna().shape"
      ],
      "execution_count": 110,
      "outputs": [
        {
          "output_type": "execute_result",
          "data": {
            "text/plain": [
              "(19554, 5)"
            ]
          },
          "metadata": {
            "tags": []
          },
          "execution_count": 110
        }
      ]
    },
    {
      "cell_type": "markdown",
      "metadata": {
        "id": "hUPCECjSyZ83",
        "colab_type": "text"
      },
      "source": [
        "## Engenharia de Recursos (Feature Engineering)\n",
        "\n",
        "Podemos, a partir das colunas já contidas no nosso conjunto de dados, extrair mais informações e fazer com que nosso modelo tenha maior chance de ser bem sucedido. Esse é o processo de Feature Engineering.\n"
      ]
    },
    {
      "cell_type": "markdown",
      "metadata": {
        "id": "EM16UxeTzZpo",
        "colab_type": "text"
      },
      "source": [
        "Antes de tudo, vamos eliminar as pessoas que faltaram todas as provas, pois elas não nos fornecem muita informação.\n"
      ]
    },
    {
      "cell_type": "code",
      "metadata": {
        "id": "P9DDa7TJzmHo",
        "colab_type": "code",
        "colab": {}
      },
      "source": [
        "dados_treino = dados_treino.replace(0, np.nan).dropna(how = 'all').fillna(0)\n",
        "dados_teste = dados_teste.replace(0, np.nan).dropna(how = 'all').fillna(0)\n"
      ],
      "execution_count": 111,
      "outputs": []
    },
    {
      "cell_type": "code",
      "metadata": {
        "id": "3ClNt5hH0AND",
        "colab_type": "code",
        "colab": {
          "base_uri": "https://localhost:8080/",
          "height": 34
        },
        "outputId": "047ba4ac-1722-4560-fc2a-29c6b745360b"
      },
      "source": [
        "dados_treino.shape"
      ],
      "execution_count": 112,
      "outputs": [
        {
          "output_type": "execute_result",
          "data": {
            "text/plain": [
              "(149999, 5)"
            ]
          },
          "metadata": {
            "tags": []
          },
          "execution_count": 112
        }
      ]
    },
    {
      "cell_type": "code",
      "metadata": {
        "id": "ZIJgxMXZ0DAE",
        "colab_type": "code",
        "colab": {
          "base_uri": "https://localhost:8080/",
          "height": 34
        },
        "outputId": "b9a045c7-ccda-47b1-cd70-6bb4dc400dbb"
      },
      "source": [
        "dados_teste.shape"
      ],
      "execution_count": 113,
      "outputs": [
        {
          "output_type": "execute_result",
          "data": {
            "text/plain": [
              "(20000, 5)"
            ]
          },
          "metadata": {
            "tags": []
          },
          "execution_count": 113
        }
      ]
    },
    {
      "cell_type": "markdown",
      "metadata": {
        "id": "ubO_Xi4C0dIN",
        "colab_type": "text"
      },
      "source": [
        "O nosso modelo de machine learnig pode ser visto como uma funcao que recebe certas variaveis (x) e retorna um resultado (y) baseado nos dados recebidos. Abaixo iremos separar as colunas de input (x) e as colunas de output (y). Como queremos adivinhar a nota de linguagem, ela será o nosso output. As outras notas serão os dados nos quais o nosso modelo irá se basear para fazer tal previsão. \n",
        "\n"
      ]
    },
    {
      "cell_type": "code",
      "metadata": {
        "id": "1Odv_AoCyZ87",
        "colab_type": "code",
        "colab": {}
      },
      "source": [
        "colunas_x = ['NU_NOTA_CN', 'NU_NOTA_CH', 'NU_NOTA_MT', 'NU_NOTA_REDACAO']\n",
        "coluna_y = ['NU_NOTA_LC']"
      ],
      "execution_count": 114,
      "outputs": []
    },
    {
      "cell_type": "markdown",
      "metadata": {
        "id": "_7RY2rINyZ9R",
        "colab_type": "text"
      },
      "source": [
        "A partir das 4 informações presentes em `colunas_x`, iremos calcular:\n",
        "- Média\n",
        "- Mediana\n",
        "- Mínimo\n",
        "- Máximo\n",
        "- Desvio padrão"
      ]
    },
    {
      "cell_type": "code",
      "metadata": {
        "id": "FPqLC8OsyZ9V",
        "colab_type": "code",
        "colab": {}
      },
      "source": [
        "dados_treino['MÉDIA'] = dados_treino[colunas_x].apply(np.mean, axis = 1)\n",
        "dados_treino['MEDIANA'] = dados_treino[colunas_x].apply(np.median, axis = 1)\n",
        "dados_treino['MÌNIMO'] = dados_treino[colunas_x].apply(np.min, axis = 1)\n",
        "dados_treino['MÁXIMO'] = dados_treino[colunas_x].apply(np.max, axis = 1)\n",
        "dados_treino['DP'] = dados_treino[colunas_x].apply(np.std, axis = 1)\n"
      ],
      "execution_count": 115,
      "outputs": []
    },
    {
      "cell_type": "code",
      "metadata": {
        "id": "Eruj2L4OyZ9o",
        "colab_type": "code",
        "colab": {
          "base_uri": "https://localhost:8080/",
          "height": 204
        },
        "outputId": "28680a8e-76e6-4054-d5c3-954015c982b7"
      },
      "source": [
        "dados_treino.head()"
      ],
      "execution_count": 116,
      "outputs": [
        {
          "output_type": "execute_result",
          "data": {
            "text/html": [
              "<div>\n",
              "<style scoped>\n",
              "    .dataframe tbody tr th:only-of-type {\n",
              "        vertical-align: middle;\n",
              "    }\n",
              "\n",
              "    .dataframe tbody tr th {\n",
              "        vertical-align: top;\n",
              "    }\n",
              "\n",
              "    .dataframe thead th {\n",
              "        text-align: right;\n",
              "    }\n",
              "</style>\n",
              "<table border=\"1\" class=\"dataframe\">\n",
              "  <thead>\n",
              "    <tr style=\"text-align: right;\">\n",
              "      <th></th>\n",
              "      <th>NU_NOTA_CN</th>\n",
              "      <th>NU_NOTA_CH</th>\n",
              "      <th>NU_NOTA_LC</th>\n",
              "      <th>NU_NOTA_MT</th>\n",
              "      <th>NU_NOTA_REDACAO</th>\n",
              "      <th>MÉDIA</th>\n",
              "      <th>MEDIANA</th>\n",
              "      <th>MÌNIMO</th>\n",
              "      <th>MÁXIMO</th>\n",
              "      <th>DP</th>\n",
              "    </tr>\n",
              "  </thead>\n",
              "  <tbody>\n",
              "    <tr>\n",
              "      <th>0</th>\n",
              "      <td>530.7</td>\n",
              "      <td>586.5</td>\n",
              "      <td>575.9</td>\n",
              "      <td>539.0</td>\n",
              "      <td>520.0</td>\n",
              "      <td>544.050</td>\n",
              "      <td>534.85</td>\n",
              "      <td>520.0</td>\n",
              "      <td>586.5</td>\n",
              "      <td>25.417169</td>\n",
              "    </tr>\n",
              "    <tr>\n",
              "      <th>1</th>\n",
              "      <td>439.4</td>\n",
              "      <td>577.9</td>\n",
              "      <td>440.9</td>\n",
              "      <td>488.7</td>\n",
              "      <td>380.0</td>\n",
              "      <td>471.500</td>\n",
              "      <td>464.05</td>\n",
              "      <td>380.0</td>\n",
              "      <td>577.9</td>\n",
              "      <td>72.490448</td>\n",
              "    </tr>\n",
              "    <tr>\n",
              "      <th>2</th>\n",
              "      <td>414.1</td>\n",
              "      <td>548.8</td>\n",
              "      <td>417.2</td>\n",
              "      <td>382.6</td>\n",
              "      <td>600.0</td>\n",
              "      <td>486.375</td>\n",
              "      <td>481.45</td>\n",
              "      <td>382.6</td>\n",
              "      <td>600.0</td>\n",
              "      <td>90.554469</td>\n",
              "    </tr>\n",
              "    <tr>\n",
              "      <th>3</th>\n",
              "      <td>407.9</td>\n",
              "      <td>572.7</td>\n",
              "      <td>558.9</td>\n",
              "      <td>595.4</td>\n",
              "      <td>560.0</td>\n",
              "      <td>534.000</td>\n",
              "      <td>566.35</td>\n",
              "      <td>407.9</td>\n",
              "      <td>595.4</td>\n",
              "      <td>73.900034</td>\n",
              "    </tr>\n",
              "    <tr>\n",
              "      <th>4</th>\n",
              "      <td>617.2</td>\n",
              "      <td>655.7</td>\n",
              "      <td>564.2</td>\n",
              "      <td>660.9</td>\n",
              "      <td>540.0</td>\n",
              "      <td>618.450</td>\n",
              "      <td>636.45</td>\n",
              "      <td>540.0</td>\n",
              "      <td>660.9</td>\n",
              "      <td>48.336141</td>\n",
              "    </tr>\n",
              "  </tbody>\n",
              "</table>\n",
              "</div>"
            ],
            "text/plain": [
              "   NU_NOTA_CN  NU_NOTA_CH  NU_NOTA_LC  ...  MÌNIMO  MÁXIMO         DP\n",
              "0       530.7       586.5       575.9  ...   520.0   586.5  25.417169\n",
              "1       439.4       577.9       440.9  ...   380.0   577.9  72.490448\n",
              "2       414.1       548.8       417.2  ...   382.6   600.0  90.554469\n",
              "3       407.9       572.7       558.9  ...   407.9   595.4  73.900034\n",
              "4       617.2       655.7       564.2  ...   540.0   660.9  48.336141\n",
              "\n",
              "[5 rows x 10 columns]"
            ]
          },
          "metadata": {
            "tags": []
          },
          "execution_count": 116
        }
      ]
    },
    {
      "cell_type": "code",
      "metadata": {
        "id": "7N6z2HDPyZ94",
        "colab_type": "code",
        "colab": {}
      },
      "source": [
        "dados_teste['MÉDIA'] = dados_teste[colunas_x].apply(np.mean, axis = 1)\n",
        "dados_teste['MEDIANA'] = dados_teste[colunas_x].apply(np.median, axis = 1)\n",
        "dados_teste['MÌNIMO'] = dados_teste[colunas_x].apply(np.min, axis = 1)\n",
        "dados_teste['MÁXIMO'] = dados_teste[colunas_x].apply(np.max, axis = 1)\n",
        "dados_teste['DP'] = dados_teste[colunas_x].apply(np.std, axis = 1)\n"
      ],
      "execution_count": 117,
      "outputs": []
    },
    {
      "cell_type": "code",
      "metadata": {
        "id": "mJl_lmOfyZ-J",
        "colab_type": "code",
        "colab": {
          "base_uri": "https://localhost:8080/",
          "height": 204
        },
        "outputId": "906d7dcf-1690-4c00-82c8-547f46ab1dfa"
      },
      "source": [
        "dados_teste.head()"
      ],
      "execution_count": 118,
      "outputs": [
        {
          "output_type": "execute_result",
          "data": {
            "text/html": [
              "<div>\n",
              "<style scoped>\n",
              "    .dataframe tbody tr th:only-of-type {\n",
              "        vertical-align: middle;\n",
              "    }\n",
              "\n",
              "    .dataframe tbody tr th {\n",
              "        vertical-align: top;\n",
              "    }\n",
              "\n",
              "    .dataframe thead th {\n",
              "        text-align: right;\n",
              "    }\n",
              "</style>\n",
              "<table border=\"1\" class=\"dataframe\">\n",
              "  <thead>\n",
              "    <tr style=\"text-align: right;\">\n",
              "      <th></th>\n",
              "      <th>NU_NOTA_CN</th>\n",
              "      <th>NU_NOTA_CH</th>\n",
              "      <th>NU_NOTA_LC</th>\n",
              "      <th>NU_NOTA_MT</th>\n",
              "      <th>NU_NOTA_REDACAO</th>\n",
              "      <th>MÉDIA</th>\n",
              "      <th>MEDIANA</th>\n",
              "      <th>MÌNIMO</th>\n",
              "      <th>MÁXIMO</th>\n",
              "      <th>DP</th>\n",
              "    </tr>\n",
              "  </thead>\n",
              "  <tbody>\n",
              "    <tr>\n",
              "      <th>0</th>\n",
              "      <td>468.6</td>\n",
              "      <td>579.2</td>\n",
              "      <td>550.0</td>\n",
              "      <td>605.0</td>\n",
              "      <td>540.0</td>\n",
              "      <td>548.200</td>\n",
              "      <td>559.60</td>\n",
              "      <td>468.6</td>\n",
              "      <td>605.0</td>\n",
              "      <td>51.455418</td>\n",
              "    </tr>\n",
              "    <tr>\n",
              "      <th>1</th>\n",
              "      <td>463.5</td>\n",
              "      <td>442.6</td>\n",
              "      <td>406.3</td>\n",
              "      <td>413.8</td>\n",
              "      <td>440.0</td>\n",
              "      <td>439.975</td>\n",
              "      <td>441.30</td>\n",
              "      <td>413.8</td>\n",
              "      <td>463.5</td>\n",
              "      <td>17.645449</td>\n",
              "    </tr>\n",
              "    <tr>\n",
              "      <th>2</th>\n",
              "      <td>593.3</td>\n",
              "      <td>717.3</td>\n",
              "      <td>652.3</td>\n",
              "      <td>693.6</td>\n",
              "      <td>980.0</td>\n",
              "      <td>746.050</td>\n",
              "      <td>705.45</td>\n",
              "      <td>593.3</td>\n",
              "      <td>980.0</td>\n",
              "      <td>142.865960</td>\n",
              "    </tr>\n",
              "    <tr>\n",
              "      <th>3</th>\n",
              "      <td>426.0</td>\n",
              "      <td>603.6</td>\n",
              "      <td>469.1</td>\n",
              "      <td>455.2</td>\n",
              "      <td>380.0</td>\n",
              "      <td>466.200</td>\n",
              "      <td>440.60</td>\n",
              "      <td>380.0</td>\n",
              "      <td>603.6</td>\n",
              "      <td>83.735058</td>\n",
              "    </tr>\n",
              "    <tr>\n",
              "      <th>4</th>\n",
              "      <td>537.8</td>\n",
              "      <td>601.6</td>\n",
              "      <td>580.5</td>\n",
              "      <td>502.0</td>\n",
              "      <td>620.0</td>\n",
              "      <td>565.350</td>\n",
              "      <td>569.70</td>\n",
              "      <td>502.0</td>\n",
              "      <td>620.0</td>\n",
              "      <td>47.625912</td>\n",
              "    </tr>\n",
              "  </tbody>\n",
              "</table>\n",
              "</div>"
            ],
            "text/plain": [
              "   NU_NOTA_CN  NU_NOTA_CH  NU_NOTA_LC  ...  MÌNIMO  MÁXIMO          DP\n",
              "0       468.6       579.2       550.0  ...   468.6   605.0   51.455418\n",
              "1       463.5       442.6       406.3  ...   413.8   463.5   17.645449\n",
              "2       593.3       717.3       652.3  ...   593.3   980.0  142.865960\n",
              "3       426.0       603.6       469.1  ...   380.0   603.6   83.735058\n",
              "4       537.8       601.6       580.5  ...   502.0   620.0   47.625912\n",
              "\n",
              "[5 rows x 10 columns]"
            ]
          },
          "metadata": {
            "tags": []
          },
          "execution_count": 118
        }
      ]
    },
    {
      "cell_type": "code",
      "metadata": {
        "id": "JfRcNytT5_rb",
        "colab_type": "code",
        "colab": {}
      },
      "source": [
        "x_treino = dados_treino.drop(columns = 'NU_NOTA_LC')\n",
        "x_teste = dados_teste.drop(columns = 'NU_NOTA_LC')\n",
        "y_treino = dados_treino['NU_NOTA_LC']\n",
        "y_teste = dados_teste['NU_NOTA_LC']"
      ],
      "execution_count": 119,
      "outputs": []
    },
    {
      "cell_type": "markdown",
      "metadata": {
        "id": "1KDnhw1414TC",
        "colab_type": "text"
      },
      "source": [
        "## Modelo de Machine Learning"
      ]
    },
    {
      "cell_type": "markdown",
      "metadata": {
        "id": "Wb08yKKZ2fzv",
        "colab_type": "text"
      },
      "source": [
        "Agora que fizemos o processo de engenharia de recursos, podemos criar nosso modelo de Machine Learning, treiná-lo, testá-lo e calcular o erro dos resultados obtidos.\n"
      ]
    },
    {
      "cell_type": "markdown",
      "metadata": {
        "id": "Yvvx6oA83ih9",
        "colab_type": "text"
      },
      "source": [
        "### Criação do Modelo"
      ]
    },
    {
      "cell_type": "markdown",
      "metadata": {
        "id": "EgeXyX6t4QeW",
        "colab_type": "text"
      },
      "source": [
        "Antes de tudo, vamos fixar a nossa seed para que o output seja igual para diferentes execuções, já que algoritmos de machine learning recorrentemente se utilizam de numeros pseudo-aleatórios."
      ]
    },
    {
      "cell_type": "code",
      "metadata": {
        "id": "Qa8kHD4u495d",
        "colab_type": "code",
        "colab": {}
      },
      "source": [
        "SEED = 485697\n",
        "np.random.seed(SEED) "
      ],
      "execution_count": 120,
      "outputs": []
    },
    {
      "cell_type": "markdown",
      "metadata": {
        "id": "aryT7le95GXY",
        "colab_type": "text"
      },
      "source": [
        "Agora importaremos o modelo `GradientBoostingRegressor`, que pertence à biblioteca *scikit-learn* e é baseado em várias árvores de decisão."
      ]
    },
    {
      "cell_type": "code",
      "metadata": {
        "id": "PET1puSy3hzG",
        "colab_type": "code",
        "colab": {}
      },
      "source": [
        "from sklearn.ensemble import GradientBoostingRegressor\n",
        "\n",
        "modelo = GradientBoostingRegressor()"
      ],
      "execution_count": 121,
      "outputs": []
    },
    {
      "cell_type": "markdown",
      "metadata": {
        "id": "9vIecTvB69K_",
        "colab_type": "text"
      },
      "source": [
        "### Treinando o Modelo "
      ]
    },
    {
      "cell_type": "code",
      "metadata": {
        "id": "BdKmhTcX7DpH",
        "colab_type": "code",
        "colab": {
          "base_uri": "https://localhost:8080/",
          "height": 170
        },
        "outputId": "79977109-303a-4d4b-dab6-6b113a41c0ad"
      },
      "source": [
        "modelo.fit(x_treino, y_treino)"
      ],
      "execution_count": 122,
      "outputs": [
        {
          "output_type": "execute_result",
          "data": {
            "text/plain": [
              "GradientBoostingRegressor(alpha=0.9, ccp_alpha=0.0, criterion='friedman_mse',\n",
              "                          init=None, learning_rate=0.1, loss='ls', max_depth=3,\n",
              "                          max_features=None, max_leaf_nodes=None,\n",
              "                          min_impurity_decrease=0.0, min_impurity_split=None,\n",
              "                          min_samples_leaf=1, min_samples_split=2,\n",
              "                          min_weight_fraction_leaf=0.0, n_estimators=100,\n",
              "                          n_iter_no_change=None, presort='deprecated',\n",
              "                          random_state=None, subsample=1.0, tol=0.0001,\n",
              "                          validation_fraction=0.1, verbose=0, warm_start=False)"
            ]
          },
          "metadata": {
            "tags": []
          },
          "execution_count": 122
        }
      ]
    },
    {
      "cell_type": "markdown",
      "metadata": {
        "id": "uI7I6swf7XCj",
        "colab_type": "text"
      },
      "source": [
        "### Fazendo a predição"
      ]
    },
    {
      "cell_type": "code",
      "metadata": {
        "id": "05pGqEeS7lDB",
        "colab_type": "code",
        "colab": {}
      },
      "source": [
        "predicoes = modelo.predict(x_teste)"
      ],
      "execution_count": 123,
      "outputs": []
    },
    {
      "cell_type": "code",
      "metadata": {
        "id": "khvF4Da37vO_",
        "colab_type": "code",
        "colab": {
          "base_uri": "https://localhost:8080/",
          "height": 51
        },
        "outputId": "31288d1a-7865-45ba-e9ff-d839424a9399"
      },
      "source": [
        "predicoes[:5]"
      ],
      "execution_count": 124,
      "outputs": [
        {
          "output_type": "execute_result",
          "data": {
            "text/plain": [
              "array([531.92971157, 459.26483613, 645.72783639, 513.15022101,\n",
              "       554.76313004])"
            ]
          },
          "metadata": {
            "tags": []
          },
          "execution_count": 124
        }
      ]
    },
    {
      "cell_type": "markdown",
      "metadata": {
        "id": "44oHvOpw73nN",
        "colab_type": "text"
      },
      "source": [
        "### Calculando o erro"
      ]
    },
    {
      "cell_type": "markdown",
      "metadata": {
        "id": "4Lj_QxRN771t",
        "colab_type": "text"
      },
      "source": [
        "Agora que o nosso modelo fez as previsões, precisamos calcular o erro em relação às notas reais, que estao guardadas em `y_teste`."
      ]
    },
    {
      "cell_type": "code",
      "metadata": {
        "id": "SiG8bYQ88L_Y",
        "colab_type": "code",
        "colab": {
          "base_uri": "https://localhost:8080/",
          "height": 34
        },
        "outputId": "fb3adac2-be0e-452c-9874-707c145f37de"
      },
      "source": [
        "from sklearn.metrics import mean_squared_error\n",
        "\n",
        "mean_squared_error(predicoes, y_teste)"
      ],
      "execution_count": 125,
      "outputs": [
        {
          "output_type": "execute_result",
          "data": {
            "text/plain": [
              "2062.0988003164416"
            ]
          },
          "metadata": {
            "tags": []
          },
          "execution_count": 125
        }
      ]
    },
    {
      "cell_type": "markdown",
      "metadata": {
        "id": "wccdJo988j8G",
        "colab_type": "text"
      },
      "source": [
        "Podemos comparar o nosso erro com o erro de um DummyRegressor."
      ]
    },
    {
      "cell_type": "code",
      "metadata": {
        "id": "2bom7ERf8zZf",
        "colab_type": "code",
        "colab": {
          "base_uri": "https://localhost:8080/",
          "height": 34
        },
        "outputId": "8305152e-8282-44db-d609-277c2bfe75d4"
      },
      "source": [
        "from sklearn.dummy import DummyRegressor\n",
        "\n",
        "modelo_dummy = DummyRegressor()\n",
        "modelo_dummy.fit(x_treino, y_treino)\n",
        "dummy_predicoes = modelo_dummy.predict(x_teste)\n",
        "\n",
        "mean_squared_error(y_teste, dummy_predicoes)"
      ],
      "execution_count": 126,
      "outputs": [
        {
          "output_type": "execute_result",
          "data": {
            "text/plain": [
              "5219.290666656784"
            ]
          },
          "metadata": {
            "tags": []
          },
          "execution_count": 126
        }
      ]
    },
    {
      "cell_type": "markdown",
      "metadata": {
        "id": "hKX2yKlBK1xb",
        "colab_type": "text"
      },
      "source": [
        "Nosso erro foi mais de 60% menor que o um modelo Dummy, que é um modelo simples, baseado apenas na média das outras notas. Isso é um bom indício de que nosso modelo está no caminho correto."
      ]
    },
    {
      "cell_type": "markdown",
      "metadata": {
        "id": "ZDw6irInNt4Z",
        "colab_type": "text"
      },
      "source": [
        "## Gráficos"
      ]
    },
    {
      "cell_type": "markdown",
      "metadata": {
        "id": "HlbRxiJgNxrz",
        "colab_type": "text"
      },
      "source": [
        "Podemos também medir o quanto nosso modelo se aproxima da realidade através de gráficos."
      ]
    },
    {
      "cell_type": "code",
      "metadata": {
        "id": "kq6TSqwLN9_Y",
        "colab_type": "code",
        "colab": {
          "base_uri": "https://localhost:8080/",
          "height": 626
        },
        "outputId": "0dc6a9e5-9b6a-4408-f765-524353fcca3e"
      },
      "source": [
        "plt.figure(figsize = (10,10))\n",
        "sns.scatterplot(x = y_teste, y = predicoes)\n",
        "plt.xlabel(\"Nota Real\", fontsize = 12)\n",
        "plt.ylabel(\"Predição\", fontsize = 12)\n",
        "plt.title(\"Predição x Nota Real\", fontsize = 14)\n",
        "plt.show()"
      ],
      "execution_count": 127,
      "outputs": [
        {
          "output_type": "display_data",
          "data": {
            "image/png": "[encoded data removed]",
            "text/plain": [
              "<Figure size 720x720 with 1 Axes>"
            ]
          },
          "metadata": {
            "tags": [],
            "needs_background": "light"
          }
        }
      ]
    },
    {
      "cell_type": "markdown",
      "metadata": {
        "id": "jfthl4QmQYX9",
        "colab_type": "text"
      },
      "source": [
        "No gráfico acima estamos comparando as notas que prevemos com as notas reais, entao quanto mais o gráfico se aproximar de uma reta, melhor é o modelo.\n",
        "\n",
        "Vemos que para notas maiores, os pontos estão menos espalhados, o que pode indicar que o modelo obteve mais sucesso em acertar as notas maiores do que notas menores."
      ]
    },
    {
      "cell_type": "markdown",
      "metadata": {
        "id": "y32EQgu6XimL",
        "colab_type": "text"
      },
      "source": [
        "No gráfico abaixo, iremos comparar a nota de Linguagens com a de Matemática. Em azul temos a nota real e em laranja a nota que o modelo previu."
      ]
    },
    {
      "cell_type": "code",
      "metadata": {
        "id": "hxFoxOx7RbI5",
        "colab_type": "code",
        "colab": {
          "base_uri": "https://localhost:8080/",
          "height": 609
        },
        "outputId": "9455934d-4b8a-4467-926b-a988889b49c6"
      },
      "source": [
        "plt.figure(figsize = (10,10))\n",
        "sns.scatterplot(x = x_teste[\"NU_NOTA_MT\"], y = y_teste)\n",
        "sns.scatterplot(x = x_teste[\"NU_NOTA_MT\"], y = predicoes)\n",
        "plt.xlabel(\"Nota da Prova de Matemática\", fontsize = 12)\n",
        "plt.ylabel(\"Nota da Prova de Linguagens\", fontsize = 12)\n",
        "plt.show()"
      ],
      "execution_count": 128,
      "outputs": [
        {
          "output_type": "display_data",
          "data": {
            "image/png": "[encoded data removed]",
            "text/plain": [
              "<Figure size 720x720 with 1 Axes>"
            ]
          },
          "metadata": {
            "tags": [],
            "needs_background": "light"
          }
        }
      ]
    },
    {
      "cell_type": "markdown",
      "metadata": {
        "id": "2J78uTgEX6Qm",
        "colab_type": "text"
      },
      "source": [
        "Neste caso, quanto mais os pontos laranjas coicidirem com os pontos azuis, melhor será o modelo. \n",
        "\n",
        "Vemos mais uma vez que nosso modelo previu melhor as notas maiores e superestimou as notas menores."
      ]
    }
  ]
}